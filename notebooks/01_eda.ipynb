{
 "cells": [
  {
   "cell_type": "code",
   "execution_count": 1,
   "metadata": {},
   "outputs": [
    {
     "name": "stderr",
     "output_type": "stream",
     "text": [
      "/Users/jasonzhang/Documents/PersonalProjects/SafeStride/.venv/lib/python3.9/site-packages/urllib3/__init__.py:35: NotOpenSSLWarning: urllib3 v2 only supports OpenSSL 1.1.1+, currently the 'ssl' module is compiled with 'LibreSSL 2.8.3'. See: https://github.com/urllib3/urllib3/issues/3020\n",
      "  warnings.warn(\n"
     ]
    }
   ],
   "source": [
    "import pandas as pd\n",
    "import numpy as np\n",
    "import matplotlib.pyplot as plt\n",
    "import seaborn as sns\n",
    "\n",
    "import geopandas as gpd\n",
    "import contextily as ctx\n",
    "from shapely.geometry import Point\n",
    "\n",
    "from datetime import datetime\n",
    "\n",
    "pd.set_option(\"display.max_column\", 100)"
   ]
  },
  {
   "cell_type": "markdown",
   "metadata": {},
   "source": [
    "# Data Cleaning"
   ]
  },
  {
   "cell_type": "code",
   "execution_count": 2,
   "metadata": {},
   "outputs": [
    {
     "name": "stderr",
     "output_type": "stream",
     "text": [
      "/var/folders/q0/tp61rdx579s1pr09fjqsx_gw0000gn/T/ipykernel_2634/1756663924.py:1: DtypeWarning: Columns (0) have mixed types. Specify dtype option on import or set low_memory=False.\n",
      "  crime_df = pd.read_csv(\"../data/crime_2022.csv\")\n"
     ]
    },
    {
     "data": {
      "text/html": [
       "<div>\n",
       "<style scoped>\n",
       "    .dataframe tbody tr th:only-of-type {\n",
       "        vertical-align: middle;\n",
       "    }\n",
       "\n",
       "    .dataframe tbody tr th {\n",
       "        vertical-align: top;\n",
       "    }\n",
       "\n",
       "    .dataframe thead th {\n",
       "        text-align: right;\n",
       "    }\n",
       "</style>\n",
       "<table border=\"1\" class=\"dataframe\">\n",
       "  <thead>\n",
       "    <tr style=\"text-align: right;\">\n",
       "      <th></th>\n",
       "      <th>INCIDENT_NUMBER</th>\n",
       "      <th>OFFENSE_CODE</th>\n",
       "      <th>OFFENSE_CODE_GROUP</th>\n",
       "      <th>OFFENSE_DESCRIPTION</th>\n",
       "      <th>DISTRICT</th>\n",
       "      <th>REPORTING_AREA</th>\n",
       "      <th>SHOOTING</th>\n",
       "      <th>OCCURRED_ON_DATE</th>\n",
       "      <th>YEAR</th>\n",
       "      <th>MONTH</th>\n",
       "      <th>DAY_OF_WEEK</th>\n",
       "      <th>HOUR</th>\n",
       "      <th>UCR_PART</th>\n",
       "      <th>STREET</th>\n",
       "      <th>Lat</th>\n",
       "      <th>Long</th>\n",
       "      <th>Location</th>\n",
       "    </tr>\n",
       "  </thead>\n",
       "  <tbody>\n",
       "    <tr>\n",
       "      <th>0</th>\n",
       "      <td>222076257</td>\n",
       "      <td>619</td>\n",
       "      <td>NaN</td>\n",
       "      <td>LARCENY ALL OTHERS</td>\n",
       "      <td>D4</td>\n",
       "      <td>167</td>\n",
       "      <td>0</td>\n",
       "      <td>2022-01-01 00:00:00</td>\n",
       "      <td>2022</td>\n",
       "      <td>1</td>\n",
       "      <td>Saturday</td>\n",
       "      <td>0</td>\n",
       "      <td>NaN</td>\n",
       "      <td>HARRISON AVE</td>\n",
       "      <td>42.339542</td>\n",
       "      <td>-71.069409</td>\n",
       "      <td>(42.33954198983014, -71.06940876967543)</td>\n",
       "    </tr>\n",
       "    <tr>\n",
       "      <th>1</th>\n",
       "      <td>222053099</td>\n",
       "      <td>2670</td>\n",
       "      <td>NaN</td>\n",
       "      <td>HARASSMENT/ CRIMINAL HARASSMENT</td>\n",
       "      <td>A7</td>\n",
       "      <td></td>\n",
       "      <td>0</td>\n",
       "      <td>2022-01-01 00:00:00</td>\n",
       "      <td>2022</td>\n",
       "      <td>1</td>\n",
       "      <td>Saturday</td>\n",
       "      <td>0</td>\n",
       "      <td>NaN</td>\n",
       "      <td>BENNINGTON ST</td>\n",
       "      <td>42.377246</td>\n",
       "      <td>-71.032597</td>\n",
       "      <td>(42.37724638479816, -71.0325970804128)</td>\n",
       "    </tr>\n",
       "    <tr>\n",
       "      <th>2</th>\n",
       "      <td>222039411</td>\n",
       "      <td>3201</td>\n",
       "      <td>NaN</td>\n",
       "      <td>PROPERTY - LOST/ MISSING</td>\n",
       "      <td>D14</td>\n",
       "      <td>778</td>\n",
       "      <td>0</td>\n",
       "      <td>2022-01-01 00:00:00</td>\n",
       "      <td>2022</td>\n",
       "      <td>1</td>\n",
       "      <td>Saturday</td>\n",
       "      <td>0</td>\n",
       "      <td>NaN</td>\n",
       "      <td>WASHINGTON ST</td>\n",
       "      <td>42.349056</td>\n",
       "      <td>-71.150498</td>\n",
       "      <td>(42.34905600030506, -71.15049849975023)</td>\n",
       "    </tr>\n",
       "    <tr>\n",
       "      <th>3</th>\n",
       "      <td>222011090</td>\n",
       "      <td>3201</td>\n",
       "      <td>NaN</td>\n",
       "      <td>PROPERTY - LOST/ MISSING</td>\n",
       "      <td>B3</td>\n",
       "      <td>465</td>\n",
       "      <td>0</td>\n",
       "      <td>2022-01-01 00:00:00</td>\n",
       "      <td>2022</td>\n",
       "      <td>1</td>\n",
       "      <td>Saturday</td>\n",
       "      <td>0</td>\n",
       "      <td>NaN</td>\n",
       "      <td>BLUE HILL AVE</td>\n",
       "      <td>42.284826</td>\n",
       "      <td>-71.091374</td>\n",
       "      <td>(42.28482576580488, -71.09137368938802)</td>\n",
       "    </tr>\n",
       "    <tr>\n",
       "      <th>4</th>\n",
       "      <td>222062685</td>\n",
       "      <td>3201</td>\n",
       "      <td>NaN</td>\n",
       "      <td>PROPERTY - LOST/ MISSING</td>\n",
       "      <td>B3</td>\n",
       "      <td>465</td>\n",
       "      <td>0</td>\n",
       "      <td>2022-01-01 00:00:00</td>\n",
       "      <td>2022</td>\n",
       "      <td>1</td>\n",
       "      <td>Saturday</td>\n",
       "      <td>0</td>\n",
       "      <td>NaN</td>\n",
       "      <td>BLUE HILL AVE</td>\n",
       "      <td>42.284826</td>\n",
       "      <td>-71.091374</td>\n",
       "      <td>(42.28482576580488, -71.09137368938802)</td>\n",
       "    </tr>\n",
       "    <tr>\n",
       "      <th>...</th>\n",
       "      <td>...</td>\n",
       "      <td>...</td>\n",
       "      <td>...</td>\n",
       "      <td>...</td>\n",
       "      <td>...</td>\n",
       "      <td>...</td>\n",
       "      <td>...</td>\n",
       "      <td>...</td>\n",
       "      <td>...</td>\n",
       "      <td>...</td>\n",
       "      <td>...</td>\n",
       "      <td>...</td>\n",
       "      <td>...</td>\n",
       "      <td>...</td>\n",
       "      <td>...</td>\n",
       "      <td>...</td>\n",
       "      <td>...</td>\n",
       "    </tr>\n",
       "    <tr>\n",
       "      <th>73847</th>\n",
       "      <td>232000091</td>\n",
       "      <td>1402</td>\n",
       "      <td>NaN</td>\n",
       "      <td>VANDALISM</td>\n",
       "      <td>A1</td>\n",
       "      <td>66</td>\n",
       "      <td>0</td>\n",
       "      <td>2022-12-31 23:30:00</td>\n",
       "      <td>2022</td>\n",
       "      <td>12</td>\n",
       "      <td>Saturday</td>\n",
       "      <td>23</td>\n",
       "      <td>NaN</td>\n",
       "      <td>CHARLES ST</td>\n",
       "      <td>42.359790</td>\n",
       "      <td>-71.070782</td>\n",
       "      <td>(42.35979037458775, -71.07078234449541)</td>\n",
       "    </tr>\n",
       "    <tr>\n",
       "      <th>73848</th>\n",
       "      <td>232000002</td>\n",
       "      <td>3831</td>\n",
       "      <td>NaN</td>\n",
       "      <td>M/V - LEAVING SCENE - PROPERTY DAMAGE</td>\n",
       "      <td>C11</td>\n",
       "      <td></td>\n",
       "      <td>0</td>\n",
       "      <td>2022-12-31 23:37:00</td>\n",
       "      <td>2022</td>\n",
       "      <td>12</td>\n",
       "      <td>Saturday</td>\n",
       "      <td>23</td>\n",
       "      <td>NaN</td>\n",
       "      <td>COLUMBIA RD</td>\n",
       "      <td>42.319593</td>\n",
       "      <td>-71.062607</td>\n",
       "      <td>(42.31959298334654, -71.06260699634272)</td>\n",
       "    </tr>\n",
       "    <tr>\n",
       "      <th>73849</th>\n",
       "      <td>232000140</td>\n",
       "      <td>619</td>\n",
       "      <td>NaN</td>\n",
       "      <td>LARCENY ALL OTHERS</td>\n",
       "      <td>D14</td>\n",
       "      <td>778</td>\n",
       "      <td>0</td>\n",
       "      <td>2022-12-31 23:45:00</td>\n",
       "      <td>2022</td>\n",
       "      <td>12</td>\n",
       "      <td>Saturday</td>\n",
       "      <td>23</td>\n",
       "      <td>NaN</td>\n",
       "      <td>WASHINGTON ST</td>\n",
       "      <td>42.349056</td>\n",
       "      <td>-71.150498</td>\n",
       "      <td>(42.34905600030506, -71.15049849975023)</td>\n",
       "    </tr>\n",
       "    <tr>\n",
       "      <th>73850</th>\n",
       "      <td>232000315</td>\n",
       "      <td>3201</td>\n",
       "      <td>NaN</td>\n",
       "      <td>PROPERTY - LOST/ MISSING</td>\n",
       "      <td>D4</td>\n",
       "      <td>167</td>\n",
       "      <td>0</td>\n",
       "      <td>2022-12-31 23:50:00</td>\n",
       "      <td>2022</td>\n",
       "      <td>12</td>\n",
       "      <td>Saturday</td>\n",
       "      <td>23</td>\n",
       "      <td>NaN</td>\n",
       "      <td>HARRISON AVENUE</td>\n",
       "      <td>NaN</td>\n",
       "      <td>NaN</td>\n",
       "      <td>NaN</td>\n",
       "    </tr>\n",
       "    <tr>\n",
       "      <th>73851</th>\n",
       "      <td>232000052</td>\n",
       "      <td>3114</td>\n",
       "      <td>NaN</td>\n",
       "      <td>INVESTIGATE PROPERTY</td>\n",
       "      <td>A1</td>\n",
       "      <td></td>\n",
       "      <td>0</td>\n",
       "      <td>2022-12-31 23:50:00</td>\n",
       "      <td>2022</td>\n",
       "      <td>12</td>\n",
       "      <td>Saturday</td>\n",
       "      <td>23</td>\n",
       "      <td>NaN</td>\n",
       "      <td>MOUNT VERNON ST</td>\n",
       "      <td>42.357879</td>\n",
       "      <td>-71.069680</td>\n",
       "      <td>(42.357878706878985, -71.06967973039733)</td>\n",
       "    </tr>\n",
       "  </tbody>\n",
       "</table>\n",
       "<p>73852 rows × 17 columns</p>\n",
       "</div>"
      ],
      "text/plain": [
       "      INCIDENT_NUMBER  OFFENSE_CODE  OFFENSE_CODE_GROUP  \\\n",
       "0           222076257           619                 NaN   \n",
       "1           222053099          2670                 NaN   \n",
       "2           222039411          3201                 NaN   \n",
       "3           222011090          3201                 NaN   \n",
       "4           222062685          3201                 NaN   \n",
       "...               ...           ...                 ...   \n",
       "73847       232000091          1402                 NaN   \n",
       "73848       232000002          3831                 NaN   \n",
       "73849       232000140           619                 NaN   \n",
       "73850       232000315          3201                 NaN   \n",
       "73851       232000052          3114                 NaN   \n",
       "\n",
       "                         OFFENSE_DESCRIPTION DISTRICT REPORTING_AREA  \\\n",
       "0                         LARCENY ALL OTHERS       D4            167   \n",
       "1            HARASSMENT/ CRIMINAL HARASSMENT       A7                  \n",
       "2                   PROPERTY - LOST/ MISSING      D14            778   \n",
       "3                   PROPERTY - LOST/ MISSING       B3            465   \n",
       "4                   PROPERTY - LOST/ MISSING       B3            465   \n",
       "...                                      ...      ...            ...   \n",
       "73847                              VANDALISM       A1             66   \n",
       "73848  M/V - LEAVING SCENE - PROPERTY DAMAGE      C11                  \n",
       "73849                     LARCENY ALL OTHERS      D14            778   \n",
       "73850               PROPERTY - LOST/ MISSING       D4            167   \n",
       "73851                   INVESTIGATE PROPERTY       A1                  \n",
       "\n",
       "       SHOOTING     OCCURRED_ON_DATE  YEAR  MONTH DAY_OF_WEEK  HOUR  UCR_PART  \\\n",
       "0             0  2022-01-01 00:00:00  2022      1    Saturday     0       NaN   \n",
       "1             0  2022-01-01 00:00:00  2022      1    Saturday     0       NaN   \n",
       "2             0  2022-01-01 00:00:00  2022      1    Saturday     0       NaN   \n",
       "3             0  2022-01-01 00:00:00  2022      1    Saturday     0       NaN   \n",
       "4             0  2022-01-01 00:00:00  2022      1    Saturday     0       NaN   \n",
       "...         ...                  ...   ...    ...         ...   ...       ...   \n",
       "73847         0  2022-12-31 23:30:00  2022     12    Saturday    23       NaN   \n",
       "73848         0  2022-12-31 23:37:00  2022     12    Saturday    23       NaN   \n",
       "73849         0  2022-12-31 23:45:00  2022     12    Saturday    23       NaN   \n",
       "73850         0  2022-12-31 23:50:00  2022     12    Saturday    23       NaN   \n",
       "73851         0  2022-12-31 23:50:00  2022     12    Saturday    23       NaN   \n",
       "\n",
       "                STREET        Lat       Long  \\\n",
       "0         HARRISON AVE  42.339542 -71.069409   \n",
       "1        BENNINGTON ST  42.377246 -71.032597   \n",
       "2        WASHINGTON ST  42.349056 -71.150498   \n",
       "3        BLUE HILL AVE  42.284826 -71.091374   \n",
       "4        BLUE HILL AVE  42.284826 -71.091374   \n",
       "...                ...        ...        ...   \n",
       "73847       CHARLES ST  42.359790 -71.070782   \n",
       "73848      COLUMBIA RD  42.319593 -71.062607   \n",
       "73849    WASHINGTON ST  42.349056 -71.150498   \n",
       "73850  HARRISON AVENUE        NaN        NaN   \n",
       "73851  MOUNT VERNON ST  42.357879 -71.069680   \n",
       "\n",
       "                                       Location  \n",
       "0       (42.33954198983014, -71.06940876967543)  \n",
       "1        (42.37724638479816, -71.0325970804128)  \n",
       "2       (42.34905600030506, -71.15049849975023)  \n",
       "3       (42.28482576580488, -71.09137368938802)  \n",
       "4       (42.28482576580488, -71.09137368938802)  \n",
       "...                                         ...  \n",
       "73847   (42.35979037458775, -71.07078234449541)  \n",
       "73848   (42.31959298334654, -71.06260699634272)  \n",
       "73849   (42.34905600030506, -71.15049849975023)  \n",
       "73850                                       NaN  \n",
       "73851  (42.357878706878985, -71.06967973039733)  \n",
       "\n",
       "[73852 rows x 17 columns]"
      ]
     },
     "execution_count": 2,
     "metadata": {},
     "output_type": "execute_result"
    }
   ],
   "source": [
    "crime_df = pd.read_csv(\"../data/crime_2022.csv\")\n",
    "crime_df"
   ]
  },
  {
   "cell_type": "code",
   "execution_count": 3,
   "metadata": {},
   "outputs": [
    {
     "name": "stdout",
     "output_type": "stream",
     "text": [
      "<class 'pandas.core.frame.DataFrame'>\n",
      "RangeIndex: 73852 entries, 0 to 73851\n",
      "Data columns (total 17 columns):\n",
      " #   Column               Non-Null Count  Dtype  \n",
      "---  ------               --------------  -----  \n",
      " 0   INCIDENT_NUMBER      73852 non-null  object \n",
      " 1   OFFENSE_CODE         73852 non-null  int64  \n",
      " 2   OFFENSE_CODE_GROUP   0 non-null      float64\n",
      " 3   OFFENSE_DESCRIPTION  73852 non-null  object \n",
      " 4   DISTRICT             73681 non-null  object \n",
      " 5   REPORTING_AREA       73852 non-null  object \n",
      " 6   SHOOTING             73852 non-null  int64  \n",
      " 7   OCCURRED_ON_DATE     73852 non-null  object \n",
      " 8   YEAR                 73852 non-null  int64  \n",
      " 9   MONTH                73852 non-null  int64  \n",
      " 10  DAY_OF_WEEK          73852 non-null  object \n",
      " 11  HOUR                 73852 non-null  int64  \n",
      " 12  UCR_PART             0 non-null      float64\n",
      " 13  STREET               73851 non-null  object \n",
      " 14  Lat                  70044 non-null  float64\n",
      " 15  Long                 70044 non-null  float64\n",
      " 16  Location             70044 non-null  object \n",
      "dtypes: float64(4), int64(5), object(8)\n",
      "memory usage: 9.6+ MB\n"
     ]
    }
   ],
   "source": [
    "crime_df.info()"
   ]
  },
  {
   "cell_type": "markdown",
   "metadata": {},
   "source": [
    "## Initial observations\n",
    "1. OFFENSE_CODE_GROUP and UCR_PART are completely null, thus we can drop\n",
    "2. INCIDENT_NUMBER can be cast into int type (unless some start with a 0)\n",
    "3. OCCURRED_ON_DATE and other time columns can be cast into datetime"
   ]
  },
  {
   "cell_type": "code",
   "execution_count": 4,
   "metadata": {},
   "outputs": [
    {
     "data": {
      "text/html": [
       "<div>\n",
       "<style scoped>\n",
       "    .dataframe tbody tr th:only-of-type {\n",
       "        vertical-align: middle;\n",
       "    }\n",
       "\n",
       "    .dataframe tbody tr th {\n",
       "        vertical-align: top;\n",
       "    }\n",
       "\n",
       "    .dataframe thead th {\n",
       "        text-align: right;\n",
       "    }\n",
       "</style>\n",
       "<table border=\"1\" class=\"dataframe\">\n",
       "  <thead>\n",
       "    <tr style=\"text-align: right;\">\n",
       "      <th></th>\n",
       "      <th>INCIDENT_NUMBER</th>\n",
       "      <th>OFFENSE_CODE</th>\n",
       "      <th>OFFENSE_DESCRIPTION</th>\n",
       "      <th>DISTRICT</th>\n",
       "      <th>REPORTING_AREA</th>\n",
       "      <th>SHOOTING</th>\n",
       "      <th>OCCURRED_ON_DATE</th>\n",
       "      <th>DAY_OF_WEEK</th>\n",
       "      <th>STREET</th>\n",
       "      <th>Lat</th>\n",
       "      <th>Long</th>\n",
       "      <th>Location</th>\n",
       "    </tr>\n",
       "  </thead>\n",
       "  <tbody>\n",
       "    <tr>\n",
       "      <th>0</th>\n",
       "      <td>222076257</td>\n",
       "      <td>619</td>\n",
       "      <td>LARCENY ALL OTHERS</td>\n",
       "      <td>D4</td>\n",
       "      <td>167</td>\n",
       "      <td>0</td>\n",
       "      <td>2022-01-01 00:00:00</td>\n",
       "      <td>Saturday</td>\n",
       "      <td>HARRISON AVE</td>\n",
       "      <td>42.339542</td>\n",
       "      <td>-71.069409</td>\n",
       "      <td>(42.33954198983014, -71.06940876967543)</td>\n",
       "    </tr>\n",
       "    <tr>\n",
       "      <th>1</th>\n",
       "      <td>222053099</td>\n",
       "      <td>2670</td>\n",
       "      <td>HARASSMENT/ CRIMINAL HARASSMENT</td>\n",
       "      <td>A7</td>\n",
       "      <td></td>\n",
       "      <td>0</td>\n",
       "      <td>2022-01-01 00:00:00</td>\n",
       "      <td>Saturday</td>\n",
       "      <td>BENNINGTON ST</td>\n",
       "      <td>42.377246</td>\n",
       "      <td>-71.032597</td>\n",
       "      <td>(42.37724638479816, -71.0325970804128)</td>\n",
       "    </tr>\n",
       "    <tr>\n",
       "      <th>2</th>\n",
       "      <td>222039411</td>\n",
       "      <td>3201</td>\n",
       "      <td>PROPERTY - LOST/ MISSING</td>\n",
       "      <td>D14</td>\n",
       "      <td>778</td>\n",
       "      <td>0</td>\n",
       "      <td>2022-01-01 00:00:00</td>\n",
       "      <td>Saturday</td>\n",
       "      <td>WASHINGTON ST</td>\n",
       "      <td>42.349056</td>\n",
       "      <td>-71.150498</td>\n",
       "      <td>(42.34905600030506, -71.15049849975023)</td>\n",
       "    </tr>\n",
       "    <tr>\n",
       "      <th>3</th>\n",
       "      <td>222011090</td>\n",
       "      <td>3201</td>\n",
       "      <td>PROPERTY - LOST/ MISSING</td>\n",
       "      <td>B3</td>\n",
       "      <td>465</td>\n",
       "      <td>0</td>\n",
       "      <td>2022-01-01 00:00:00</td>\n",
       "      <td>Saturday</td>\n",
       "      <td>BLUE HILL AVE</td>\n",
       "      <td>42.284826</td>\n",
       "      <td>-71.091374</td>\n",
       "      <td>(42.28482576580488, -71.09137368938802)</td>\n",
       "    </tr>\n",
       "    <tr>\n",
       "      <th>4</th>\n",
       "      <td>222062685</td>\n",
       "      <td>3201</td>\n",
       "      <td>PROPERTY - LOST/ MISSING</td>\n",
       "      <td>B3</td>\n",
       "      <td>465</td>\n",
       "      <td>0</td>\n",
       "      <td>2022-01-01 00:00:00</td>\n",
       "      <td>Saturday</td>\n",
       "      <td>BLUE HILL AVE</td>\n",
       "      <td>42.284826</td>\n",
       "      <td>-71.091374</td>\n",
       "      <td>(42.28482576580488, -71.09137368938802)</td>\n",
       "    </tr>\n",
       "    <tr>\n",
       "      <th>...</th>\n",
       "      <td>...</td>\n",
       "      <td>...</td>\n",
       "      <td>...</td>\n",
       "      <td>...</td>\n",
       "      <td>...</td>\n",
       "      <td>...</td>\n",
       "      <td>...</td>\n",
       "      <td>...</td>\n",
       "      <td>...</td>\n",
       "      <td>...</td>\n",
       "      <td>...</td>\n",
       "      <td>...</td>\n",
       "    </tr>\n",
       "    <tr>\n",
       "      <th>73847</th>\n",
       "      <td>232000091</td>\n",
       "      <td>1402</td>\n",
       "      <td>VANDALISM</td>\n",
       "      <td>A1</td>\n",
       "      <td>66</td>\n",
       "      <td>0</td>\n",
       "      <td>2022-12-31 23:30:00</td>\n",
       "      <td>Saturday</td>\n",
       "      <td>CHARLES ST</td>\n",
       "      <td>42.359790</td>\n",
       "      <td>-71.070782</td>\n",
       "      <td>(42.35979037458775, -71.07078234449541)</td>\n",
       "    </tr>\n",
       "    <tr>\n",
       "      <th>73848</th>\n",
       "      <td>232000002</td>\n",
       "      <td>3831</td>\n",
       "      <td>M/V - LEAVING SCENE - PROPERTY DAMAGE</td>\n",
       "      <td>C11</td>\n",
       "      <td></td>\n",
       "      <td>0</td>\n",
       "      <td>2022-12-31 23:37:00</td>\n",
       "      <td>Saturday</td>\n",
       "      <td>COLUMBIA RD</td>\n",
       "      <td>42.319593</td>\n",
       "      <td>-71.062607</td>\n",
       "      <td>(42.31959298334654, -71.06260699634272)</td>\n",
       "    </tr>\n",
       "    <tr>\n",
       "      <th>73849</th>\n",
       "      <td>232000140</td>\n",
       "      <td>619</td>\n",
       "      <td>LARCENY ALL OTHERS</td>\n",
       "      <td>D14</td>\n",
       "      <td>778</td>\n",
       "      <td>0</td>\n",
       "      <td>2022-12-31 23:45:00</td>\n",
       "      <td>Saturday</td>\n",
       "      <td>WASHINGTON ST</td>\n",
       "      <td>42.349056</td>\n",
       "      <td>-71.150498</td>\n",
       "      <td>(42.34905600030506, -71.15049849975023)</td>\n",
       "    </tr>\n",
       "    <tr>\n",
       "      <th>73850</th>\n",
       "      <td>232000315</td>\n",
       "      <td>3201</td>\n",
       "      <td>PROPERTY - LOST/ MISSING</td>\n",
       "      <td>D4</td>\n",
       "      <td>167</td>\n",
       "      <td>0</td>\n",
       "      <td>2022-12-31 23:50:00</td>\n",
       "      <td>Saturday</td>\n",
       "      <td>HARRISON AVENUE</td>\n",
       "      <td>NaN</td>\n",
       "      <td>NaN</td>\n",
       "      <td>NaN</td>\n",
       "    </tr>\n",
       "    <tr>\n",
       "      <th>73851</th>\n",
       "      <td>232000052</td>\n",
       "      <td>3114</td>\n",
       "      <td>INVESTIGATE PROPERTY</td>\n",
       "      <td>A1</td>\n",
       "      <td></td>\n",
       "      <td>0</td>\n",
       "      <td>2022-12-31 23:50:00</td>\n",
       "      <td>Saturday</td>\n",
       "      <td>MOUNT VERNON ST</td>\n",
       "      <td>42.357879</td>\n",
       "      <td>-71.069680</td>\n",
       "      <td>(42.357878706878985, -71.06967973039733)</td>\n",
       "    </tr>\n",
       "  </tbody>\n",
       "</table>\n",
       "<p>73852 rows × 12 columns</p>\n",
       "</div>"
      ],
      "text/plain": [
       "      INCIDENT_NUMBER  OFFENSE_CODE                    OFFENSE_DESCRIPTION  \\\n",
       "0           222076257           619                     LARCENY ALL OTHERS   \n",
       "1           222053099          2670        HARASSMENT/ CRIMINAL HARASSMENT   \n",
       "2           222039411          3201               PROPERTY - LOST/ MISSING   \n",
       "3           222011090          3201               PROPERTY - LOST/ MISSING   \n",
       "4           222062685          3201               PROPERTY - LOST/ MISSING   \n",
       "...               ...           ...                                    ...   \n",
       "73847       232000091          1402                              VANDALISM   \n",
       "73848       232000002          3831  M/V - LEAVING SCENE - PROPERTY DAMAGE   \n",
       "73849       232000140           619                     LARCENY ALL OTHERS   \n",
       "73850       232000315          3201               PROPERTY - LOST/ MISSING   \n",
       "73851       232000052          3114                   INVESTIGATE PROPERTY   \n",
       "\n",
       "      DISTRICT REPORTING_AREA  SHOOTING    OCCURRED_ON_DATE DAY_OF_WEEK  \\\n",
       "0           D4            167         0 2022-01-01 00:00:00    Saturday   \n",
       "1           A7                        0 2022-01-01 00:00:00    Saturday   \n",
       "2          D14            778         0 2022-01-01 00:00:00    Saturday   \n",
       "3           B3            465         0 2022-01-01 00:00:00    Saturday   \n",
       "4           B3            465         0 2022-01-01 00:00:00    Saturday   \n",
       "...        ...            ...       ...                 ...         ...   \n",
       "73847       A1             66         0 2022-12-31 23:30:00    Saturday   \n",
       "73848      C11                        0 2022-12-31 23:37:00    Saturday   \n",
       "73849      D14            778         0 2022-12-31 23:45:00    Saturday   \n",
       "73850       D4            167         0 2022-12-31 23:50:00    Saturday   \n",
       "73851       A1                        0 2022-12-31 23:50:00    Saturday   \n",
       "\n",
       "                STREET        Lat       Long  \\\n",
       "0         HARRISON AVE  42.339542 -71.069409   \n",
       "1        BENNINGTON ST  42.377246 -71.032597   \n",
       "2        WASHINGTON ST  42.349056 -71.150498   \n",
       "3        BLUE HILL AVE  42.284826 -71.091374   \n",
       "4        BLUE HILL AVE  42.284826 -71.091374   \n",
       "...                ...        ...        ...   \n",
       "73847       CHARLES ST  42.359790 -71.070782   \n",
       "73848      COLUMBIA RD  42.319593 -71.062607   \n",
       "73849    WASHINGTON ST  42.349056 -71.150498   \n",
       "73850  HARRISON AVENUE        NaN        NaN   \n",
       "73851  MOUNT VERNON ST  42.357879 -71.069680   \n",
       "\n",
       "                                       Location  \n",
       "0       (42.33954198983014, -71.06940876967543)  \n",
       "1        (42.37724638479816, -71.0325970804128)  \n",
       "2       (42.34905600030506, -71.15049849975023)  \n",
       "3       (42.28482576580488, -71.09137368938802)  \n",
       "4       (42.28482576580488, -71.09137368938802)  \n",
       "...                                         ...  \n",
       "73847   (42.35979037458775, -71.07078234449541)  \n",
       "73848   (42.31959298334654, -71.06260699634272)  \n",
       "73849   (42.34905600030506, -71.15049849975023)  \n",
       "73850                                       NaN  \n",
       "73851  (42.357878706878985, -71.06967973039733)  \n",
       "\n",
       "[73852 rows x 12 columns]"
      ]
     },
     "execution_count": 4,
     "metadata": {},
     "output_type": "execute_result"
    }
   ],
   "source": [
    "# Drop null and redundant columns\n",
    "crime_df = crime_df.drop(columns=[\"OFFENSE_CODE_GROUP\", \"UCR_PART\", \"YEAR\", \"MONTH\", \"HOUR\"])\n",
    "crime_df[\"OCCURRED_ON_DATE\"] = pd.to_datetime(crime_df[\"OCCURRED_ON_DATE\"])\n",
    "crime_df"
   ]
  },
  {
   "cell_type": "code",
   "execution_count": 5,
   "metadata": {},
   "outputs": [
    {
     "data": {
      "text/html": [
       "<div>\n",
       "<style scoped>\n",
       "    .dataframe tbody tr th:only-of-type {\n",
       "        vertical-align: middle;\n",
       "    }\n",
       "\n",
       "    .dataframe tbody tr th {\n",
       "        vertical-align: top;\n",
       "    }\n",
       "\n",
       "    .dataframe thead th {\n",
       "        text-align: right;\n",
       "    }\n",
       "</style>\n",
       "<table border=\"1\" class=\"dataframe\">\n",
       "  <thead>\n",
       "    <tr style=\"text-align: right;\">\n",
       "      <th></th>\n",
       "      <th>INCIDENT_NUMBER</th>\n",
       "      <th>OFFENSE_CODE</th>\n",
       "      <th>OFFENSE_DESCRIPTION</th>\n",
       "      <th>DISTRICT</th>\n",
       "      <th>REPORTING_AREA</th>\n",
       "      <th>SHOOTING</th>\n",
       "      <th>OCCURRED_ON_DATE</th>\n",
       "      <th>DAY_OF_WEEK</th>\n",
       "      <th>STREET</th>\n",
       "      <th>Lat</th>\n",
       "      <th>Long</th>\n",
       "      <th>Location</th>\n",
       "    </tr>\n",
       "  </thead>\n",
       "  <tbody>\n",
       "    <tr>\n",
       "      <th>27078</th>\n",
       "      <td>222036082</td>\n",
       "      <td>2619</td>\n",
       "      <td>FUGITIVE FROM JUSTICE</td>\n",
       "      <td>A1</td>\n",
       "      <td></td>\n",
       "      <td>0</td>\n",
       "      <td>2022-05-20 08:39:00</td>\n",
       "      <td>Friday</td>\n",
       "      <td>NaN</td>\n",
       "      <td>42.353371</td>\n",
       "      <td>-71.054824</td>\n",
       "      <td>(42.35337100593008, -71.05482398397082)</td>\n",
       "    </tr>\n",
       "  </tbody>\n",
       "</table>\n",
       "</div>"
      ],
      "text/plain": [
       "      INCIDENT_NUMBER  OFFENSE_CODE    OFFENSE_DESCRIPTION DISTRICT  \\\n",
       "27078       222036082          2619  FUGITIVE FROM JUSTICE       A1   \n",
       "\n",
       "      REPORTING_AREA  SHOOTING    OCCURRED_ON_DATE DAY_OF_WEEK STREET  \\\n",
       "27078                        0 2022-05-20 08:39:00      Friday    NaN   \n",
       "\n",
       "             Lat       Long                                 Location  \n",
       "27078  42.353371 -71.054824  (42.35337100593008, -71.05482398397082)  "
      ]
     },
     "execution_count": 5,
     "metadata": {},
     "output_type": "execute_result"
    }
   ],
   "source": [
    "crime_df[crime_df[\"STREET\"].isna()]"
   ]
  },
  {
   "cell_type": "markdown",
   "metadata": {},
   "source": [
    "From Google Maps this point is between Purchase St and Atlantic Ave, we will fill the value with Atlantic Ave because there are many more records"
   ]
  },
  {
   "cell_type": "code",
   "execution_count": 6,
   "metadata": {},
   "outputs": [
    {
     "name": "stdout",
     "output_type": "stream",
     "text": [
      "# crimes on Purchase St: 7\n",
      "# crimes on Atlantic Ave: 101\n"
     ]
    }
   ],
   "source": [
    "print(f\"# crimes on Purchase St: {len(crime_df[crime_df['STREET'] == 'PURCHASE ST'])}\")\n",
    "print(f\"# crimes on Atlantic Ave: {len(crime_df[crime_df['STREET'] == 'ATLANTIC AVE'])}\")"
   ]
  },
  {
   "cell_type": "code",
   "execution_count": 7,
   "metadata": {},
   "outputs": [],
   "source": [
    "# Fill nan STREET value with ATLANTIC AVE\n",
    "crime_df.loc[27078, \"STREET\"] = \"ATLANTIC AVE\""
   ]
  },
  {
   "cell_type": "code",
   "execution_count": 8,
   "metadata": {},
   "outputs": [
    {
     "data": {
      "text/html": [
       "<div>\n",
       "<style scoped>\n",
       "    .dataframe tbody tr th:only-of-type {\n",
       "        vertical-align: middle;\n",
       "    }\n",
       "\n",
       "    .dataframe tbody tr th {\n",
       "        vertical-align: top;\n",
       "    }\n",
       "\n",
       "    .dataframe thead th {\n",
       "        text-align: right;\n",
       "    }\n",
       "</style>\n",
       "<table border=\"1\" class=\"dataframe\">\n",
       "  <thead>\n",
       "    <tr style=\"text-align: right;\">\n",
       "      <th></th>\n",
       "      <th>INCIDENT_NUMBER</th>\n",
       "      <th>OFFENSE_CODE</th>\n",
       "      <th>OFFENSE_DESCRIPTION</th>\n",
       "      <th>DISTRICT</th>\n",
       "      <th>REPORTING_AREA</th>\n",
       "      <th>SHOOTING</th>\n",
       "      <th>OCCURRED_ON_DATE</th>\n",
       "      <th>DAY_OF_WEEK</th>\n",
       "      <th>STREET</th>\n",
       "      <th>Lat</th>\n",
       "      <th>Long</th>\n",
       "      <th>Location</th>\n",
       "    </tr>\n",
       "  </thead>\n",
       "  <tbody>\n",
       "  </tbody>\n",
       "</table>\n",
       "</div>"
      ],
      "text/plain": [
       "Empty DataFrame\n",
       "Columns: [INCIDENT_NUMBER, OFFENSE_CODE, OFFENSE_DESCRIPTION, DISTRICT, REPORTING_AREA, SHOOTING, OCCURRED_ON_DATE, DAY_OF_WEEK, STREET, Lat, Long, Location]\n",
       "Index: []"
      ]
     },
     "execution_count": 8,
     "metadata": {},
     "output_type": "execute_result"
    }
   ],
   "source": [
    "# There are no records without STREET or LOCATION\n",
    "crime_df[(crime_df[\"STREET\"].isna()) & (crime_df[\"Location\"]).isna()]"
   ]
  },
  {
   "cell_type": "code",
   "execution_count": 9,
   "metadata": {},
   "outputs": [
    {
     "name": "stdout",
     "output_type": "stream",
     "text": [
      "<class 'pandas.core.frame.DataFrame'>\n",
      "RangeIndex: 73852 entries, 0 to 73851\n",
      "Data columns (total 12 columns):\n",
      " #   Column               Non-Null Count  Dtype         \n",
      "---  ------               --------------  -----         \n",
      " 0   INCIDENT_NUMBER      73852 non-null  object        \n",
      " 1   OFFENSE_CODE         73852 non-null  int64         \n",
      " 2   OFFENSE_DESCRIPTION  73852 non-null  object        \n",
      " 3   DISTRICT             73681 non-null  object        \n",
      " 4   REPORTING_AREA       73852 non-null  object        \n",
      " 5   SHOOTING             73852 non-null  int64         \n",
      " 6   OCCURRED_ON_DATE     73852 non-null  datetime64[ns]\n",
      " 7   DAY_OF_WEEK          73852 non-null  object        \n",
      " 8   STREET               73852 non-null  object        \n",
      " 9   Lat                  70044 non-null  float64       \n",
      " 10  Long                 70044 non-null  float64       \n",
      " 11  Location             70044 non-null  object        \n",
      "dtypes: datetime64[ns](1), float64(2), int64(2), object(7)\n",
      "memory usage: 6.8+ MB\n"
     ]
    }
   ],
   "source": [
    "crime_df.info()"
   ]
  },
  {
   "cell_type": "markdown",
   "metadata": {},
   "source": [
    "# Data Visualization\n",
    "## [Plotting example](https://www.kaggle.com/code/christotk/analyse-crimes-in-boston-with-geopandas-and-folium)"
   ]
  },
  {
   "cell_type": "code",
   "execution_count": 10,
   "metadata": {},
   "outputs": [
    {
     "data": {
      "image/png": "[encoded data removed]",
      "text/plain": [
       "<Figure size 640x480 with 1 Axes>"
      ]
     },
     "metadata": {},
     "output_type": "display_data"
    }
   ],
   "source": [
    "plt.scatter(x=crime_df[\"Long\"], y=crime_df[\"Lat\"])\n",
    "plt.show()"
   ]
  },
  {
   "cell_type": "code",
   "execution_count": 11,
   "metadata": {},
   "outputs": [
    {
     "data": {
      "text/html": [
       "<div>\n",
       "<style scoped>\n",
       "    .dataframe tbody tr th:only-of-type {\n",
       "        vertical-align: middle;\n",
       "    }\n",
       "\n",
       "    .dataframe tbody tr th {\n",
       "        vertical-align: top;\n",
       "    }\n",
       "\n",
       "    .dataframe thead th {\n",
       "        text-align: right;\n",
       "    }\n",
       "</style>\n",
       "<table border=\"1\" class=\"dataframe\">\n",
       "  <thead>\n",
       "    <tr style=\"text-align: right;\">\n",
       "      <th></th>\n",
       "      <th>name</th>\n",
       "      <th>created_at</th>\n",
       "      <th>updated_at</th>\n",
       "      <th>cartodb_id</th>\n",
       "      <th>geometry</th>\n",
       "    </tr>\n",
       "  </thead>\n",
       "  <tbody>\n",
       "    <tr>\n",
       "      <th>0</th>\n",
       "      <td>Roslindale</td>\n",
       "      <td>2013-02-19 04:40:34.216000+00:00</td>\n",
       "      <td>2013-02-19 04:40:34.466000+00:00</td>\n",
       "      <td>1</td>\n",
       "      <td>MULTIPOLYGON (((-71.12593 42.27200, -71.12575 ...</td>\n",
       "    </tr>\n",
       "    <tr>\n",
       "      <th>1</th>\n",
       "      <td>Jamaica Plain</td>\n",
       "      <td>2013-02-19 04:40:34.216000+00:00</td>\n",
       "      <td>2013-02-19 04:40:34.466000+00:00</td>\n",
       "      <td>2</td>\n",
       "      <td>MULTIPOLYGON (((-71.09831 42.32630, -71.09858 ...</td>\n",
       "    </tr>\n",
       "    <tr>\n",
       "      <th>2</th>\n",
       "      <td>Leather District</td>\n",
       "      <td>2013-02-19 04:40:34.216000+00:00</td>\n",
       "      <td>2013-02-19 04:40:34.466000+00:00</td>\n",
       "      <td>6</td>\n",
       "      <td>MULTIPOLYGON (((-71.05838 42.34982, -71.05877 ...</td>\n",
       "    </tr>\n",
       "    <tr>\n",
       "      <th>3</th>\n",
       "      <td>Roxbury</td>\n",
       "      <td>2013-02-19 04:40:34.216000+00:00</td>\n",
       "      <td>2013-02-19 04:40:34.466000+00:00</td>\n",
       "      <td>9</td>\n",
       "      <td>MULTIPOLYGON (((-71.08314 42.34153, -71.08303 ...</td>\n",
       "    </tr>\n",
       "    <tr>\n",
       "      <th>4</th>\n",
       "      <td>Fenway</td>\n",
       "      <td>2013-02-19 04:40:34.216000+00:00</td>\n",
       "      <td>2013-02-19 04:40:34.466000+00:00</td>\n",
       "      <td>17</td>\n",
       "      <td>MULTIPOLYGON (((-71.11011 42.35207, -71.10986 ...</td>\n",
       "    </tr>\n",
       "  </tbody>\n",
       "</table>\n",
       "</div>"
      ],
      "text/plain": [
       "               name                       created_at  \\\n",
       "0        Roslindale 2013-02-19 04:40:34.216000+00:00   \n",
       "1     Jamaica Plain 2013-02-19 04:40:34.216000+00:00   \n",
       "2  Leather District 2013-02-19 04:40:34.216000+00:00   \n",
       "3           Roxbury 2013-02-19 04:40:34.216000+00:00   \n",
       "4            Fenway 2013-02-19 04:40:34.216000+00:00   \n",
       "\n",
       "                        updated_at  cartodb_id  \\\n",
       "0 2013-02-19 04:40:34.466000+00:00           1   \n",
       "1 2013-02-19 04:40:34.466000+00:00           2   \n",
       "2 2013-02-19 04:40:34.466000+00:00           6   \n",
       "3 2013-02-19 04:40:34.466000+00:00           9   \n",
       "4 2013-02-19 04:40:34.466000+00:00          17   \n",
       "\n",
       "                                            geometry  \n",
       "0  MULTIPOLYGON (((-71.12593 42.27200, -71.12575 ...  \n",
       "1  MULTIPOLYGON (((-71.09831 42.32630, -71.09858 ...  \n",
       "2  MULTIPOLYGON (((-71.05838 42.34982, -71.05877 ...  \n",
       "3  MULTIPOLYGON (((-71.08314 42.34153, -71.08303 ...  \n",
       "4  MULTIPOLYGON (((-71.11011 42.35207, -71.10986 ...  "
      ]
     },
     "execution_count": 11,
     "metadata": {},
     "output_type": "execute_result"
    }
   ],
   "source": [
    "boston_map = gpd.read_file(\"../data/boston.geojson\")\n",
    "boston_map.head()"
   ]
  },
  {
   "cell_type": "code",
   "execution_count": 12,
   "metadata": {},
   "outputs": [
    {
     "data": {
      "image/png": "[encoded data removed]",
      "text/plain": [
       "<Figure size 1200x800 with 1 Axes>"
      ]
     },
     "metadata": {},
     "output_type": "display_data"
    }
   ],
   "source": [
    "import geoplot\n",
    "import geoplot.crs as gcrs\n",
    "\n",
    "ax = geoplot.polyplot(\n",
    "    boston_map,\n",
    "    projection=gcrs.AlbersEqualArea(),\n",
    "    edgecolor='darkgrey',\n",
    "    facecolor='lightgrey',\n",
    "    linewidth=.3,\n",
    "    figsize=(12, 8)\n",
    ")\n",
    "\n",
    "# geoplot.pointplot(continental_usa_cities, ax=ax)\n",
    "plt.show()\n"
   ]
  },
  {
   "cell_type": "code",
   "execution_count": 13,
   "metadata": {},
   "outputs": [
    {
     "data": {
      "image/png": "[encoded data removed]",
      "text/plain": [
       "<Figure size 640x480 with 1 Axes>"
      ]
     },
     "metadata": {},
     "output_type": "display_data"
    }
   ],
   "source": [
    "import folium\n",
    "\n",
    "ax = boston_map.plot()\n",
    "plt.scatter(x=crime_df[\"Long\"], y=crime_df[\"Lat\"], c='r', s=1)\n",
    "plt.tight_layout()"
   ]
  },
  {
   "cell_type": "code",
   "execution_count": 14,
   "metadata": {},
   "outputs": [
    {
     "data": {
      "image/png": "[encoded data removed]",
      "text/plain": [
       "<Figure size 640x480 with 1 Axes>"
      ]
     },
     "metadata": {},
     "output_type": "display_data"
    }
   ],
   "source": [
    "ax = boston_map.plot()\n",
    "sns.scatterplot(data=crime_df, x=\"Long\", y=\"Lat\", c=\"r\", s=1)\n",
    "# plt.scatter(x=crime_df[\"Long\"], y=crime_df[\"Lat\"], c='r', s=1)\n",
    "plt.tight_layout()"
   ]
  },
  {
   "cell_type": "code",
   "execution_count": 15,
   "metadata": {},
   "outputs": [
    {
     "data": {
      "application/vnd.plotly.v1+json": {
       "config": {
        "plotlyServerURL": "https://plot.ly"
       },
       "data": [
        {
         "geo": "geo",
         "hovertemplate": "<b>%{hovertext}</b><br><br>continent=Asia<br>pop=%{marker.size}<br>iso_alpha=%{location}<extra></extra>",
         "hovertext": [
          "Afghanistan",
          "Bahrain",
          "Bangladesh",
          "Cambodia",
          "China",
          "Hong Kong, China",
          "India",
          "Indonesia",
          "Iran",
          "Iraq",
          "Israel",
          "Japan",
          "Jordan",
          "Korea, Dem. Rep.",
          "Korea, Rep.",
          "Kuwait",
          "Lebanon",
          "Malaysia",
          "Mongolia",
          "Myanmar",
          "Nepal",
          "Oman",
          "Pakistan",
          "Philippines",
          "Saudi Arabia",
          "Singapore",
          "Sri Lanka",
          "Syria",
          "Taiwan",
          "Thailand",
          "Vietnam",
          "West Bank and Gaza",
          "Yemen, Rep."
         ],
         "legendgroup": "Asia",
         "locations": [
          "AFG",
          "BHR",
          "BGD",
          "KHM",
          "CHN",
          "HKG",
          "IND",
          "IDN",
          "IRN",
          "IRQ",
          "ISR",
          "JPN",
          "JOR",
          "KOR",
          "KOR",
          "KWT",
          "LBN",
          "MYS",
          "MNG",
          "MMR",
          "NPL",
          "OMN",
          "PAK",
          "PHL",
          "SAU",
          "SGP",
          "LKA",
          "SYR",
          "TWN",
          "THA",
          "VNM",
          "PSE",
          "YEM"
         ],
         "marker": {
          "color": "#636efa",
          "size": [
           31889923,
           708573,
           150448339,
           14131858,
           1318683096,
           6980412,
           1110396331,
           223547000,
           69453570,
           27499638,
           6426679,
           127467972,
           6053193,
           23301725,
           49044790,
           2505559,
           3921278,
           24821286,
           2874127,
           47761980,
           28901790,
           3204897,
           169270617,
           91077287,
           27601038,
           4553009,
           20378239,
           19314747,
           23174294,
           65068149,
           85262356,
           4018332,
           22211743
          ],
          "sizemode": "area",
          "sizeref": 3296707.74,
          "symbol": "circle"
         },
         "mode": "markers",
         "name": "Asia",
         "showlegend": true,
         "type": "scattergeo"
        },
        {
         "geo": "geo",
         "hovertemplate": "<b>%{hovertext}</b><br><br>continent=Europe<br>pop=%{marker.size}<br>iso_alpha=%{location}<extra></extra>",
         "hovertext": [
          "Albania",
          "Austria",
          "Belgium",
          "Bosnia and Herzegovina",
          "Bulgaria",
          "Croatia",
          "Czech Republic",
          "Denmark",
          "Finland",
          "France",
          "Germany",
          "Greece",
          "Hungary",
          "Iceland",
          "Ireland",
          "Italy",
          "Montenegro",
          "Netherlands",
          "Norway",
          "Poland",
          "Portugal",
          "Romania",
          "Serbia",
          "Slovak Republic",
          "Slovenia",
          "Spain",
          "Sweden",
          "Switzerland",
          "Turkey",
          "United Kingdom"
         ],
         "legendgroup": "Europe",
         "locations": [
          "ALB",
          "AUT",
          "BEL",
          "BIH",
          "BGR",
          "HRV",
          "CZE",
          "DNK",
          "FIN",
          "FRA",
          "DEU",
          "GRC",
          "HUN",
          "ISL",
          "IRL",
          "ITA",
          "MNE",
          "NLD",
          "NOR",
          "POL",
          "PRT",
          "ROU",
          "SRB",
          "SVK",
          "SVN",
          "ESP",
          "SWE",
          "CHE",
          "TUR",
          "GBR"
         ],
         "marker": {
          "color": "#EF553B",
          "size": [
           3600523,
           8199783,
           10392226,
           4552198,
           7322858,
           4493312,
           10228744,
           5468120,
           5238460,
           61083916,
           82400996,
           10706290,
           9956108,
           301931,
           4109086,
           58147733,
           684736,
           16570613,
           4627926,
           38518241,
           10642836,
           22276056,
           10150265,
           5447502,
           2009245,
           40448191,
           9031088,
           7554661,
           71158647,
           60776238
          ],
          "sizemode": "area",
          "sizeref": 3296707.74,
          "symbol": "circle"
         },
         "mode": "markers",
         "name": "Europe",
         "showlegend": true,
         "type": "scattergeo"
        },
        {
         "geo": "geo",
         "hovertemplate": "<b>%{hovertext}</b><br><br>continent=Africa<br>pop=%{marker.size}<br>iso_alpha=%{location}<extra></extra>",
         "hovertext": [
          "Algeria",
          "Angola",
          "Benin",
          "Botswana",
          "Burkina Faso",
          "Burundi",
          "Cameroon",
          "Central African Republic",
          "Chad",
          "Comoros",
          "Congo, Dem. Rep.",
          "Congo, Rep.",
          "Cote d'Ivoire",
          "Djibouti",
          "Egypt",
          "Equatorial Guinea",
          "Eritrea",
          "Ethiopia",
          "Gabon",
          "Gambia",
          "Ghana",
          "Guinea",
          "Guinea-Bissau",
          "Kenya",
          "Lesotho",
          "Liberia",
          "Libya",
          "Madagascar",
          "Malawi",
          "Mali",
          "Mauritania",
          "Mauritius",
          "Morocco",
          "Mozambique",
          "Namibia",
          "Niger",
          "Nigeria",
          "Reunion",
          "Rwanda",
          "Sao Tome and Principe",
          "Senegal",
          "Sierra Leone",
          "Somalia",
          "South Africa",
          "Sudan",
          "Swaziland",
          "Tanzania",
          "Togo",
          "Tunisia",
          "Uganda",
          "Zambia",
          "Zimbabwe"
         ],
         "legendgroup": "Africa",
         "locations": [
          "DZA",
          "AGO",
          "BEN",
          "BWA",
          "BFA",
          "BDI",
          "CMR",
          "CAF",
          "TCD",
          "COM",
          "COD",
          "COG",
          "CIV",
          "DJI",
          "EGY",
          "GNQ",
          "ERI",
          "ETH",
          "GAB",
          "GMB",
          "GHA",
          "GIN",
          "GNB",
          "KEN",
          "LSO",
          "LBR",
          "LBY",
          "MDG",
          "MWI",
          "MLI",
          "MRT",
          "MUS",
          "MAR",
          "MOZ",
          "NAM",
          "NER",
          "NGA",
          "REU",
          "RWA",
          "STP",
          "SEN",
          "SLE",
          "SOM",
          "ZAF",
          "SDN",
          "SWZ",
          "TZA",
          "TGO",
          "TUN",
          "UGA",
          "ZMB",
          "ZWE"
         ],
         "marker": {
          "color": "#00cc96",
          "size": [
           33333216,
           12420476,
           8078314,
           1639131,
           14326203,
           8390505,
           17696293,
           4369038,
           10238807,
           710960,
           64606759,
           3800610,
           18013409,
           496374,
           80264543,
           551201,
           4906585,
           76511887,
           1454867,
           1688359,
           22873338,
           9947814,
           1472041,
           35610177,
           2012649,
           3193942,
           6036914,
           19167654,
           13327079,
           12031795,
           3270065,
           1250882,
           33757175,
           19951656,
           2055080,
           12894865,
           135031164,
           798094,
           8860588,
           199579,
           12267493,
           6144562,
           9118773,
           43997828,
           42292929,
           1133066,
           38139640,
           5701579,
           10276158,
           29170398,
           11746035,
           12311143
          ],
          "sizemode": "area",
          "sizeref": 3296707.74,
          "symbol": "circle"
         },
         "mode": "markers",
         "name": "Africa",
         "showlegend": true,
         "type": "scattergeo"
        },
        {
         "geo": "geo",
         "hovertemplate": "<b>%{hovertext}</b><br><br>continent=Americas<br>pop=%{marker.size}<br>iso_alpha=%{location}<extra></extra>",
         "hovertext": [
          "Argentina",
          "Bolivia",
          "Brazil",
          "Canada",
          "Chile",
          "Colombia",
          "Costa Rica",
          "Cuba",
          "Dominican Republic",
          "Ecuador",
          "El Salvador",
          "Guatemala",
          "Haiti",
          "Honduras",
          "Jamaica",
          "Mexico",
          "Nicaragua",
          "Panama",
          "Paraguay",
          "Peru",
          "Puerto Rico",
          "Trinidad and Tobago",
          "United States",
          "Uruguay",
          "Venezuela"
         ],
         "legendgroup": "Americas",
         "locations": [
          "ARG",
          "BOL",
          "BRA",
          "CAN",
          "CHL",
          "COL",
          "CRI",
          "CUB",
          "DOM",
          "ECU",
          "SLV",
          "GTM",
          "HTI",
          "HND",
          "JAM",
          "MEX",
          "NIC",
          "PAN",
          "PRY",
          "PER",
          "PRI",
          "TTO",
          "USA",
          "URY",
          "VEN"
         ],
         "marker": {
          "color": "#ab63fa",
          "size": [
           40301927,
           9119152,
           190010647,
           33390141,
           16284741,
           44227550,
           4133884,
           11416987,
           9319622,
           13755680,
           6939688,
           12572928,
           8502814,
           7483763,
           2780132,
           108700891,
           5675356,
           3242173,
           6667147,
           28674757,
           3942491,
           1056608,
           301139947,
           3447496,
           26084662
          ],
          "sizemode": "area",
          "sizeref": 3296707.74,
          "symbol": "circle"
         },
         "mode": "markers",
         "name": "Americas",
         "showlegend": true,
         "type": "scattergeo"
        },
        {
         "geo": "geo",
         "hovertemplate": "<b>%{hovertext}</b><br><br>continent=Oceania<br>pop=%{marker.size}<br>iso_alpha=%{location}<extra></extra>",
         "hovertext": [
          "Australia",
          "New Zealand"
         ],
         "legendgroup": "Oceania",
         "locations": [
          "AUS",
          "NZL"
         ],
         "marker": {
          "color": "#FFA15A",
          "size": [
           20434176,
           4115771
          ],
          "sizemode": "area",
          "sizeref": 3296707.74,
          "symbol": "circle"
         },
         "mode": "markers",
         "name": "Oceania",
         "showlegend": true,
         "type": "scattergeo"
        }
       ],
       "layout": {
        "geo": {
         "center": {},
         "domain": {
          "x": [
           0,
           1
          ],
          "y": [
           0,
           1
          ]
         },
         "projection": {
          "type": "natural earth"
         }
        },
        "legend": {
         "itemsizing": "constant",
         "title": {
          "text": "continent"
         },
         "tracegroupgap": 0
        },
        "margin": {
         "t": 60
        },
        "template": {
         "data": {
          "bar": [
           {
            "error_x": {
             "color": "#2a3f5f"
            },
            "error_y": {
             "color": "#2a3f5f"
            },
            "marker": {
             "line": {
              "color": "#E5ECF6",
              "width": 0.5
             },
             "pattern": {
              "fillmode": "overlay",
              "size": 10,
              "solidity": 0.2
             }
            },
            "type": "bar"
           }
          ],
          "barpolar": [
           {
            "marker": {
             "line": {
              "color": "#E5ECF6",
              "width": 0.5
             },
             "pattern": {
              "fillmode": "overlay",
              "size": 10,
              "solidity": 0.2
             }
            },
            "type": "barpolar"
           }
          ],
          "carpet": [
           {
            "aaxis": {
             "endlinecolor": "#2a3f5f",
             "gridcolor": "white",
             "linecolor": "white",
             "minorgridcolor": "white",
             "startlinecolor": "#2a3f5f"
            },
            "baxis": {
             "endlinecolor": "#2a3f5f",
             "gridcolor": "white",
             "linecolor": "white",
             "minorgridcolor": "white",
             "startlinecolor": "#2a3f5f"
            },
            "type": "carpet"
           }
          ],
          "choropleth": [
           {
            "colorbar": {
             "outlinewidth": 0,
             "ticks": ""
            },
            "type": "choropleth"
           }
          ],
          "contour": [
           {
            "colorbar": {
             "outlinewidth": 0,
             "ticks": ""
            },
            "colorscale": [
             [
              0,
              "#0d0887"
             ],
             [
              0.1111111111111111,
              "#46039f"
             ],
             [
              0.2222222222222222,
              "#7201a8"
             ],
             [
              0.3333333333333333,
              "#9c179e"
             ],
             [
              0.4444444444444444,
              "#bd3786"
             ],
             [
              0.5555555555555556,
              "#d8576b"
             ],
             [
              0.6666666666666666,
              "#ed7953"
             ],
             [
              0.7777777777777778,
              "#fb9f3a"
             ],
             [
              0.8888888888888888,
              "#fdca26"
             ],
             [
              1,
              "#f0f921"
             ]
            ],
            "type": "contour"
           }
          ],
          "contourcarpet": [
           {
            "colorbar": {
             "outlinewidth": 0,
             "ticks": ""
            },
            "type": "contourcarpet"
           }
          ],
          "heatmap": [
           {
            "colorbar": {
             "outlinewidth": 0,
             "ticks": ""
            },
            "colorscale": [
             [
              0,
              "#0d0887"
             ],
             [
              0.1111111111111111,
              "#46039f"
             ],
             [
              0.2222222222222222,
              "#7201a8"
             ],
             [
              0.3333333333333333,
              "#9c179e"
             ],
             [
              0.4444444444444444,
              "#bd3786"
             ],
             [
              0.5555555555555556,
              "#d8576b"
             ],
             [
              0.6666666666666666,
              "#ed7953"
             ],
             [
              0.7777777777777778,
              "#fb9f3a"
             ],
             [
              0.8888888888888888,
              "#fdca26"
             ],
             [
              1,
              "#f0f921"
             ]
            ],
            "type": "heatmap"
           }
          ],
          "heatmapgl": [
           {
            "colorbar": {
             "outlinewidth": 0,
             "ticks": ""
            },
            "colorscale": [
             [
              0,
              "#0d0887"
             ],
             [
              0.1111111111111111,
              "#46039f"
             ],
             [
              0.2222222222222222,
              "#7201a8"
             ],
             [
              0.3333333333333333,
              "#9c179e"
             ],
             [
              0.4444444444444444,
              "#bd3786"
             ],
             [
              0.5555555555555556,
              "#d8576b"
             ],
             [
              0.6666666666666666,
              "#ed7953"
             ],
             [
              0.7777777777777778,
              "#fb9f3a"
             ],
             [
              0.8888888888888888,
              "#fdca26"
             ],
             [
              1,
              "#f0f921"
             ]
            ],
            "type": "heatmapgl"
           }
          ],
          "histogram": [
           {
            "marker": {
             "pattern": {
              "fillmode": "overlay",
              "size": 10,
              "solidity": 0.2
             }
            },
            "type": "histogram"
           }
          ],
          "histogram2d": [
           {
            "colorbar": {
             "outlinewidth": 0,
             "ticks": ""
            },
            "colorscale": [
             [
              0,
              "#0d0887"
             ],
             [
              0.1111111111111111,
              "#46039f"
             ],
             [
              0.2222222222222222,
              "#7201a8"
             ],
             [
              0.3333333333333333,
              "#9c179e"
             ],
             [
              0.4444444444444444,
              "#bd3786"
             ],
             [
              0.5555555555555556,
              "#d8576b"
             ],
             [
              0.6666666666666666,
              "#ed7953"
             ],
             [
              0.7777777777777778,
              "#fb9f3a"
             ],
             [
              0.8888888888888888,
              "#fdca26"
             ],
             [
              1,
              "#f0f921"
             ]
            ],
            "type": "histogram2d"
           }
          ],
          "histogram2dcontour": [
           {
            "colorbar": {
             "outlinewidth": 0,
             "ticks": ""
            },
            "colorscale": [
             [
              0,
              "#0d0887"
             ],
             [
              0.1111111111111111,
              "#46039f"
             ],
             [
              0.2222222222222222,
              "#7201a8"
             ],
             [
              0.3333333333333333,
              "#9c179e"
             ],
             [
              0.4444444444444444,
              "#bd3786"
             ],
             [
              0.5555555555555556,
              "#d8576b"
             ],
             [
              0.6666666666666666,
              "#ed7953"
             ],
             [
              0.7777777777777778,
              "#fb9f3a"
             ],
             [
              0.8888888888888888,
              "#fdca26"
             ],
             [
              1,
              "#f0f921"
             ]
            ],
            "type": "histogram2dcontour"
           }
          ],
          "mesh3d": [
           {
            "colorbar": {
             "outlinewidth": 0,
             "ticks": ""
            },
            "type": "mesh3d"
           }
          ],
          "parcoords": [
           {
            "line": {
             "colorbar": {
              "outlinewidth": 0,
              "ticks": ""
             }
            },
            "type": "parcoords"
           }
          ],
          "pie": [
           {
            "automargin": true,
            "type": "pie"
           }
          ],
          "scatter": [
           {
            "fillpattern": {
             "fillmode": "overlay",
             "size": 10,
             "solidity": 0.2
            },
            "type": "scatter"
           }
          ],
          "scatter3d": [
           {
            "line": {
             "colorbar": {
              "outlinewidth": 0,
              "ticks": ""
             }
            },
            "marker": {
             "colorbar": {
              "outlinewidth": 0,
              "ticks": ""
             }
            },
            "type": "scatter3d"
           }
          ],
          "scattercarpet": [
           {
            "marker": {
             "colorbar": {
              "outlinewidth": 0,
              "ticks": ""
             }
            },
            "type": "scattercarpet"
           }
          ],
          "scattergeo": [
           {
            "marker": {
             "colorbar": {
              "outlinewidth": 0,
              "ticks": ""
             }
            },
            "type": "scattergeo"
           }
          ],
          "scattergl": [
           {
            "marker": {
             "colorbar": {
              "outlinewidth": 0,
              "ticks": ""
             }
            },
            "type": "scattergl"
           }
          ],
          "scattermapbox": [
           {
            "marker": {
             "colorbar": {
              "outlinewidth": 0,
              "ticks": ""
             }
            },
            "type": "scattermapbox"
           }
          ],
          "scatterpolar": [
           {
            "marker": {
             "colorbar": {
              "outlinewidth": 0,
              "ticks": ""
             }
            },
            "type": "scatterpolar"
           }
          ],
          "scatterpolargl": [
           {
            "marker": {
             "colorbar": {
              "outlinewidth": 0,
              "ticks": ""
             }
            },
            "type": "scatterpolargl"
           }
          ],
          "scatterternary": [
           {
            "marker": {
             "colorbar": {
              "outlinewidth": 0,
              "ticks": ""
             }
            },
            "type": "scatterternary"
           }
          ],
          "surface": [
           {
            "colorbar": {
             "outlinewidth": 0,
             "ticks": ""
            },
            "colorscale": [
             [
              0,
              "#0d0887"
             ],
             [
              0.1111111111111111,
              "#46039f"
             ],
             [
              0.2222222222222222,
              "#7201a8"
             ],
             [
              0.3333333333333333,
              "#9c179e"
             ],
             [
              0.4444444444444444,
              "#bd3786"
             ],
             [
              0.5555555555555556,
              "#d8576b"
             ],
             [
              0.6666666666666666,
              "#ed7953"
             ],
             [
              0.7777777777777778,
              "#fb9f3a"
             ],
             [
              0.8888888888888888,
              "#fdca26"
             ],
             [
              1,
              "#f0f921"
             ]
            ],
            "type": "surface"
           }
          ],
          "table": [
           {
            "cells": {
             "fill": {
              "color": "#EBF0F8"
             },
             "line": {
              "color": "white"
             }
            },
            "header": {
             "fill": {
              "color": "#C8D4E3"
             },
             "line": {
              "color": "white"
             }
            },
            "type": "table"
           }
          ]
         },
         "layout": {
          "annotationdefaults": {
           "arrowcolor": "#2a3f5f",
           "arrowhead": 0,
           "arrowwidth": 1
          },
          "autotypenumbers": "strict",
          "coloraxis": {
           "colorbar": {
            "outlinewidth": 0,
            "ticks": ""
           }
          },
          "colorscale": {
           "diverging": [
            [
             0,
             "#8e0152"
            ],
            [
             0.1,
             "#c51b7d"
            ],
            [
             0.2,
             "#de77ae"
            ],
            [
             0.3,
             "#f1b6da"
            ],
            [
             0.4,
             "#fde0ef"
            ],
            [
             0.5,
             "#f7f7f7"
            ],
            [
             0.6,
             "#e6f5d0"
            ],
            [
             0.7,
             "#b8e186"
            ],
            [
             0.8,
             "#7fbc41"
            ],
            [
             0.9,
             "#4d9221"
            ],
            [
             1,
             "#276419"
            ]
           ],
           "sequential": [
            [
             0,
             "#0d0887"
            ],
            [
             0.1111111111111111,
             "#46039f"
            ],
            [
             0.2222222222222222,
             "#7201a8"
            ],
            [
             0.3333333333333333,
             "#9c179e"
            ],
            [
             0.4444444444444444,
             "#bd3786"
            ],
            [
             0.5555555555555556,
             "#d8576b"
            ],
            [
             0.6666666666666666,
             "#ed7953"
            ],
            [
             0.7777777777777778,
             "#fb9f3a"
            ],
            [
             0.8888888888888888,
             "#fdca26"
            ],
            [
             1,
             "#f0f921"
            ]
           ],
           "sequentialminus": [
            [
             0,
             "#0d0887"
            ],
            [
             0.1111111111111111,
             "#46039f"
            ],
            [
             0.2222222222222222,
             "#7201a8"
            ],
            [
             0.3333333333333333,
             "#9c179e"
            ],
            [
             0.4444444444444444,
             "#bd3786"
            ],
            [
             0.5555555555555556,
             "#d8576b"
            ],
            [
             0.6666666666666666,
             "#ed7953"
            ],
            [
             0.7777777777777778,
             "#fb9f3a"
            ],
            [
             0.8888888888888888,
             "#fdca26"
            ],
            [
             1,
             "#f0f921"
            ]
           ]
          },
          "colorway": [
           "#636efa",
           "#EF553B",
           "#00cc96",
           "#ab63fa",
           "#FFA15A",
           "#19d3f3",
           "#FF6692",
           "#B6E880",
           "#FF97FF",
           "#FECB52"
          ],
          "font": {
           "color": "#2a3f5f"
          },
          "geo": {
           "bgcolor": "white",
           "lakecolor": "white",
           "landcolor": "#E5ECF6",
           "showlakes": true,
           "showland": true,
           "subunitcolor": "white"
          },
          "hoverlabel": {
           "align": "left"
          },
          "hovermode": "closest",
          "mapbox": {
           "style": "light"
          },
          "paper_bgcolor": "white",
          "plot_bgcolor": "#E5ECF6",
          "polar": {
           "angularaxis": {
            "gridcolor": "white",
            "linecolor": "white",
            "ticks": ""
           },
           "bgcolor": "#E5ECF6",
           "radialaxis": {
            "gridcolor": "white",
            "linecolor": "white",
            "ticks": ""
           }
          },
          "scene": {
           "xaxis": {
            "backgroundcolor": "#E5ECF6",
            "gridcolor": "white",
            "gridwidth": 2,
            "linecolor": "white",
            "showbackground": true,
            "ticks": "",
            "zerolinecolor": "white"
           },
           "yaxis": {
            "backgroundcolor": "#E5ECF6",
            "gridcolor": "white",
            "gridwidth": 2,
            "linecolor": "white",
            "showbackground": true,
            "ticks": "",
            "zerolinecolor": "white"
           },
           "zaxis": {
            "backgroundcolor": "#E5ECF6",
            "gridcolor": "white",
            "gridwidth": 2,
            "linecolor": "white",
            "showbackground": true,
            "ticks": "",
            "zerolinecolor": "white"
           }
          },
          "shapedefaults": {
           "line": {
            "color": "#2a3f5f"
           }
          },
          "ternary": {
           "aaxis": {
            "gridcolor": "white",
            "linecolor": "white",
            "ticks": ""
           },
           "baxis": {
            "gridcolor": "white",
            "linecolor": "white",
            "ticks": ""
           },
           "bgcolor": "#E5ECF6",
           "caxis": {
            "gridcolor": "white",
            "linecolor": "white",
            "ticks": ""
           }
          },
          "title": {
           "x": 0.05
          },
          "xaxis": {
           "automargin": true,
           "gridcolor": "white",
           "linecolor": "white",
           "ticks": "",
           "title": {
            "standoff": 15
           },
           "zerolinecolor": "white",
           "zerolinewidth": 2
          },
          "yaxis": {
           "automargin": true,
           "gridcolor": "white",
           "linecolor": "white",
           "ticks": "",
           "title": {
            "standoff": 15
           },
           "zerolinecolor": "white",
           "zerolinewidth": 2
          }
         }
        }
       }
      }
     },
     "metadata": {},
     "output_type": "display_data"
    }
   ],
   "source": [
    "import plotly.express as px\n",
    "import nbformat\n",
    "\n",
    "df = px.data.gapminder().query(\"year==2007\")\n",
    "fig = px.scatter_geo(df, locations=\"iso_alpha\", color=\"continent\",\n",
    "                     hover_name=\"country\", size=\"pop\",\n",
    "                     projection=\"natural earth\")\n",
    "fig.show()"
   ]
  }
 ],
 "metadata": {
  "kernelspec": {
   "display_name": ".venv",
   "language": "python",
   "name": "python3"
  },
  "language_info": {
   "codemirror_mode": {
    "name": "ipython",
    "version": 3
   },
   "file_extension": ".py",
   "mimetype": "text/x-python",
   "name": "python",
   "nbconvert_exporter": "python",
   "pygments_lexer": "ipython3",
   "version": "3.9.6"
  }
 },
 "nbformat": 4,
 "nbformat_minor": 2
}
